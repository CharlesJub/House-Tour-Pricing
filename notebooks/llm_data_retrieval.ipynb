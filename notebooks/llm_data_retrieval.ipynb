{
 "cells": [
  {
   "cell_type": "markdown",
   "metadata": {},
   "source": [
    "# LLMs to extract dollar amount of house"
   ]
  },
  {
   "cell_type": "code",
   "execution_count": 53,
   "metadata": {},
   "outputs": [],
   "source": [
    "import ollama\n",
    "import pandas as pd"
   ]
  },
  {
   "cell_type": "markdown",
   "metadata": {},
   "source": [
    "# Testing"
   ]
  },
  {
   "cell_type": "code",
   "execution_count": 54,
   "metadata": {},
   "outputs": [],
   "source": [
    "df = pd.read_csv(\"../data/video_info.csv\")"
   ]
  },
  {
   "cell_type": "code",
   "execution_count": 55,
   "metadata": {},
   "outputs": [],
   "source": [
    "desiredModel = 'deepseek-r1:1.5b'"
   ]
  },
  {
   "cell_type": "code",
   "execution_count": 56,
   "metadata": {},
   "outputs": [],
   "source": [
    "list_of_prices = []\n",
    "\n",
    "for index, row in df.head(5).iterrows():\n",
    "    questionToAsk = f\"\"\"\n",
    "Title: {row['title']}\n",
    "Script: {row['script']}\n",
    "Description: {row['description']}\n",
    "\n",
    "---\n",
    "\n",
    "TASK: Extract the exact listing price or sale price of this property.\n",
    "\n",
    "RULES:\n",
    "1. Only return a price if it's explicitly stated as the listing price or sale price\n",
    "2. Ignore any other monetary values (like rental prices, comparable homes, or previous sale prices)\n",
    "3. If multiple prices are mentioned, return the most recent listing price\n",
    "4. Format must be exactly: $X,XXX,XXX\n",
    "5. If no clear listing or sale price is found, return exactly: \"No price found\"\n",
    "\n",
    "Examples of correct responses:\n",
    "$1,250,000\n",
    "$750,000\n",
    "$2,499,000\n",
    "No price found\n",
    "\n",
    "Your response:\n",
    "\"\"\"\n",
    "\n",
    "    try:\n",
    "        response = ollama.chat(model=desiredModel, messages=[{\n",
    "            'role': 'user',\n",
    "            'content': questionToAsk,\n",
    "        }])\n",
    "        OllamaResponse = response['message']['content']\n",
    "        list_of_prices.append(OllamaResponse)\n",
    "    except Exception as e:\n",
    "        print(f\"Error processing row {index}: {e}\")\n",
    "        list_of_prices.append(\"Error\")"
   ]
  },
  {
   "cell_type": "code",
   "execution_count": 58,
   "metadata": {},
   "outputs": [
    {
     "data": {
      "text/plain": [
       "['<think>\\nAlright, I\\'m trying to figure out the exact listing or sale price of this property. Let me start by reading through the details carefully.\\n\\nThe title mentioned is \"ACJ TwoTwenty business jet.\" The first thing that comes to mind is the model number. In aircraft terminology, a \"TwoTwenty\" typically refers to a 767 series. So, ACJ is an aircraft type, and with the TwoTwenty suffix, I think it\\'s ACJ 767-FC.\\n\\nNow, looking at the information provided under the title: there\\'s a section titled \"About Comlux.\" It says Comlux is not a brokerage agent but a re-seller. They mention selling a turnkey package including ferry flight to the cabin facility in Indianapolis, CAMO during completion, and management services if needed.\\n\\nUnder \"Camera Gear\" section, they list Royalty-free music like Epidemic, which is free for 30 days. Artlist for extra months: Artlist (2 extra months free). Stock footage, motion graphics, tech used include Amazon links. Their favorite books are specific titles, and supplements for well-being, plus some travel essentials.\\n\\nHowever, the key information is that Comlux sells a turnkey ACJ TwoTwenty program. The listing price isn\\'t explicitly mentioned in their details; they just refer to selling it. So, looking at other parts: \"Comlux  Facility Tour\" mentions Toulouse and Zurich, but those are locations, not prices.\\n\\nIn the rules, I need only return the exact listing or sale price. Since Comlux is selling the program, perhaps the sale price isn\\'t listed because they don\\'t charge for that? Or maybe the sale price is the same as the listing, which might be zero since they\\'re just buying and reselling?\\n\\nWait, in general, if a seller doesn\\'t list their costs or fees, sometimes people assume it\\'s a turnkey purchase. So the most recent sale price would be when Comlux sells this program, but I don\\'t see an explicit sale price mentioned.\\n\\nBut given that \"Comlux\" isn\\'t a brokerage agent and they\\'re re-selling, maybe the listing price is zero since they’re buying from Airbus, not reselling. Alternatively, if it\\'s a turnkey package without any fees beyond what\\'s inherent to their purchase, perhaps the listing price remains zero or undetermined.\\n\\nI think under Rule 3, if multiple prices are mentioned but none are clear, I return \"No price found.\" Since they\\'re selling and not explicitly stating a sale price, that might be appropriate. But in the rules, it says only list explicit prices, so without an actual sale price listed, maybe it\\'s $0.\\n</think>\\n\\nThe most recent listing price is when Comlux sold this property via their program, but since no specific sale price was mentioned, we return:\\n\\n$0',\n",
       " '<think>\\nOkay, I need to figure out the exact listing price or sale price of this property. Let me start by reading through the title and the description again carefully.\\n\\nThe title mentions \"Perched atop a secluded knoll in the heart of Brentwood,\" which indicates it\\'s a high-end estate with scenic views. The description says, \"A stone’s throw away from Kenter’s beloved hiking trails and SoCal’s treasured beaches...\" which suggests it\\'s near some popular attractions but has its own characteristics.\\n\\nLooking at the list of rules: I should only return the price if it\\'s explicitly stated as listing or sale. In this case, the title doesn\\'t mention a sale price or listing price beyond the general context. The description talks about being perched atop a knoll and nearby amenities, which are more about features than pricing.\\n\\nI also need to consider other values like rental prices, comparable homes, etc., but these don\\'t apply here. Since there\\'s no direct mention of a specific sale price or listing price in the text, I should return \"No price found.\"\\n</think>\\n\\nThe title and description do not explicitly state a listing or sale price for this property. There is no mention of a sale price or listing price beyond the general context of a high-end estate with scenic views. Therefore, there is no clear listing or sale price provided in the text.\\n\\n$ No price found',\n",
       " '<think>\\nAlright, so the user has given me a query where they want to extract the exact listing price or sale price of a property. They provided several specific rules and an example of their desired output. I need to figure out how to approach this.\\n\\nFirst, let\\'s break down what they\\'re asking for. The task is straightforward—find the listing price, sale price, infinity edge pool price, guest suite price, etc. But there are some rules that make it a bit tricky. \\n\\nRule 1 says only return the explicit price if it\\'s listed as either the listing or sale price. I need to identify all these mentions in the text provided. Rule 2 tells me to ignore any other numbers like rental prices or previous sales. That means I have to scan through the entire video and filter out non-monetary values.\\n\\nRule 3 is important: if multiple prices are mentioned, pick the most recent one. The example given shows they return $1,250,000 in that case. So, I can\\'t just take any price; I need the latest sale price or listing price.\\n\\nLooking at the provided property description and listing, the key points are:\\n- The development address: 1104 N Tigertail Rd, Los Angeles, CA 90049\\n- Property Link: https://colossal.properties/developments/tigertail-road/\\n- Sale Price: $25,900,000\\n\\nI should double-check if there are any other numerical values in that text. Scanning through the details, I don\\'t see anything else like fees or other prices. So, it seems straightforward—$25,900,000 is the sale price.\\n\\nWait, Rule 1 says only return explicit prices. Here, \"sale price\" and \"$25,900,000\" are both mentioned. Since I\\'m to ignore anything else, $25,900,000 should be extracted as the listing price.\\n\\nI also need to format it exactly as $X,XXX,XXX. That means placing commas after every three digits starting from the right and ensuring no extra commas or spaces are included. So, $25,900,000 becomes $25,900,000 without any changes.\\n\\nAre there any other numbers? No, so I\\'m confident that this is the correct price to return.\\n</think>\\n\\n$25,900,000',\n",
       " '<think>\\nAlright, let me try to figure this out. The user has given a query where they want me to extract the exact listing price or sale price of a specific property. They\\'ve provided a bunch of text with various listings and videos, but I\\'m not entirely sure how relevant that is for their task.\\n\\nFirst, looking at the rules: they specified that only return a price if it\\'s explicitly stated as the listing price or sale price. So I need to scan through the provided text for any numbers followed by commas or dollar signs. But wait, the examples they gave include $1,250,000 and similar amounts with commas. However, in their rules, they mention ignoring other monetary values like rental prices or previous sales. That might mean those aren\\'t considered.\\n\\nIn the provided text, under \"CREDITS,\" there\\'s a list of course links and details about Enes Yilmazer and others involved. No listing price or sale price is mentioned here. They also mention videos titled \"MansionTour #LuxuryHomeTour #California #LosAngeles #AryaGroup,\" which seems to be about a tour or a presentation, not a real estate listing.\\n\\nLooking further into the text, I see entries like \"Credits\" with various links and details about other courses. There\\'s also mention of events at Los Angeles California, but again, no prices. The time codes don\\'t indicate any specific property listings.\\n\\nSince all the provided information doesn\\'t contain a listing price or sale price mentioned explicitly in it, I should return \"No price found.\" This follows the rules correctly and is straightforward.\\n</think>\\n\\nNo price found',\n",
       " '<think>\\nOkay, so I need to figure out the exact listing price or sale price of this property. Let me start by reading through the information provided carefully.\\n\\nFirst, I see that there\\'s a mention of \"sale price\" in one sentence: \"The sale price is listed as $2,499,000.\" That seems pretty clear. But let me check for other mentions to make sure I\\'m not missing anything else.\\n\\nLooking further down, the listing price is also mentioned. It says, \"The property has a listing price of $2,499,000,\" which aligns with what\\'s stated as the sale price. So both terms are consistent here.\\n\\nI don\\'t see any other prices listed elsewhere in the description or the rules provided. The task only requires considering the most recent listing price when multiple prices are mentioned, but since there\\'s no conflict between listing and sale price, I can confidently say that $2,499,000 is the exact figure.\\n\\nI should also make sure to follow the formatting rules: exactly \"$X,XXX,XXX\" without any additional text. So putting it all together, the correct response is $2,499,000.\\n</think>\\n\\nThe sale price of the property is listed as **$2,499,000**, which matches the listing price given.\\n\\n---\\n\\n**Step-by-Step Explanation:**\\n\\n1. **Identify Key Information:** The text explicitly states both \"sale price\" and \"listing price.\"\\n2. **Match Prices:** Both are equal at $2,499,000.\\n3. **Follow Formatting Rules:** Return the most recent listing price formatted as \"$X,XXX,XXX\".\\n\\n---\\n\\n**Answer:**\\n$2,499,000']"
      ]
     },
     "execution_count": 58,
     "metadata": {},
     "output_type": "execute_result"
    }
   ],
   "source": [
    "list_of_prices"
   ]
  },
  {
   "cell_type": "code",
   "execution_count": 57,
   "metadata": {},
   "outputs": [
    {
     "ename": "ValueError",
     "evalue": "Length of values (5) does not match length of index (253)",
     "output_type": "error",
     "traceback": [
      "\u001b[1;31m---------------------------------------------------------------------------\u001b[0m",
      "\u001b[1;31mValueError\u001b[0m                                Traceback (most recent call last)",
      "Cell \u001b[1;32mIn[57], line 1\u001b[0m\n\u001b[1;32m----> 1\u001b[0m \u001b[43mdf\u001b[49m\u001b[43m[\u001b[49m\u001b[38;5;124;43m'\u001b[39;49m\u001b[38;5;124;43mprice\u001b[39;49m\u001b[38;5;124;43m'\u001b[39;49m\u001b[43m]\u001b[49m \u001b[38;5;241m=\u001b[39m list_of_prices\n",
      "File \u001b[1;32m~\\AppData\\Roaming\\Python\\Python311\\site-packages\\pandas\\core\\frame.py:4311\u001b[0m, in \u001b[0;36mDataFrame.__setitem__\u001b[1;34m(self, key, value)\u001b[0m\n\u001b[0;32m   4308\u001b[0m     \u001b[38;5;28mself\u001b[39m\u001b[38;5;241m.\u001b[39m_setitem_array([key], value)\n\u001b[0;32m   4309\u001b[0m \u001b[38;5;28;01melse\u001b[39;00m:\n\u001b[0;32m   4310\u001b[0m     \u001b[38;5;66;03m# set column\u001b[39;00m\n\u001b[1;32m-> 4311\u001b[0m     \u001b[38;5;28;43mself\u001b[39;49m\u001b[38;5;241;43m.\u001b[39;49m\u001b[43m_set_item\u001b[49m\u001b[43m(\u001b[49m\u001b[43mkey\u001b[49m\u001b[43m,\u001b[49m\u001b[43m \u001b[49m\u001b[43mvalue\u001b[49m\u001b[43m)\u001b[49m\n",
      "File \u001b[1;32m~\\AppData\\Roaming\\Python\\Python311\\site-packages\\pandas\\core\\frame.py:4524\u001b[0m, in \u001b[0;36mDataFrame._set_item\u001b[1;34m(self, key, value)\u001b[0m\n\u001b[0;32m   4514\u001b[0m \u001b[38;5;28;01mdef\u001b[39;00m \u001b[38;5;21m_set_item\u001b[39m(\u001b[38;5;28mself\u001b[39m, key, value) \u001b[38;5;241m-\u001b[39m\u001b[38;5;241m>\u001b[39m \u001b[38;5;28;01mNone\u001b[39;00m:\n\u001b[0;32m   4515\u001b[0m \u001b[38;5;250m    \u001b[39m\u001b[38;5;124;03m\"\"\"\u001b[39;00m\n\u001b[0;32m   4516\u001b[0m \u001b[38;5;124;03m    Add series to DataFrame in specified column.\u001b[39;00m\n\u001b[0;32m   4517\u001b[0m \n\u001b[1;32m   (...)\u001b[0m\n\u001b[0;32m   4522\u001b[0m \u001b[38;5;124;03m    ensure homogeneity.\u001b[39;00m\n\u001b[0;32m   4523\u001b[0m \u001b[38;5;124;03m    \"\"\"\u001b[39;00m\n\u001b[1;32m-> 4524\u001b[0m     value, refs \u001b[38;5;241m=\u001b[39m \u001b[38;5;28;43mself\u001b[39;49m\u001b[38;5;241;43m.\u001b[39;49m\u001b[43m_sanitize_column\u001b[49m\u001b[43m(\u001b[49m\u001b[43mvalue\u001b[49m\u001b[43m)\u001b[49m\n\u001b[0;32m   4526\u001b[0m     \u001b[38;5;28;01mif\u001b[39;00m (\n\u001b[0;32m   4527\u001b[0m         key \u001b[38;5;129;01min\u001b[39;00m \u001b[38;5;28mself\u001b[39m\u001b[38;5;241m.\u001b[39mcolumns\n\u001b[0;32m   4528\u001b[0m         \u001b[38;5;129;01mand\u001b[39;00m value\u001b[38;5;241m.\u001b[39mndim \u001b[38;5;241m==\u001b[39m \u001b[38;5;241m1\u001b[39m\n\u001b[0;32m   4529\u001b[0m         \u001b[38;5;129;01mand\u001b[39;00m \u001b[38;5;129;01mnot\u001b[39;00m \u001b[38;5;28misinstance\u001b[39m(value\u001b[38;5;241m.\u001b[39mdtype, ExtensionDtype)\n\u001b[0;32m   4530\u001b[0m     ):\n\u001b[0;32m   4531\u001b[0m         \u001b[38;5;66;03m# broadcast across multiple columns if necessary\u001b[39;00m\n\u001b[0;32m   4532\u001b[0m         \u001b[38;5;28;01mif\u001b[39;00m \u001b[38;5;129;01mnot\u001b[39;00m \u001b[38;5;28mself\u001b[39m\u001b[38;5;241m.\u001b[39mcolumns\u001b[38;5;241m.\u001b[39mis_unique \u001b[38;5;129;01mor\u001b[39;00m \u001b[38;5;28misinstance\u001b[39m(\u001b[38;5;28mself\u001b[39m\u001b[38;5;241m.\u001b[39mcolumns, MultiIndex):\n",
      "File \u001b[1;32m~\\AppData\\Roaming\\Python\\Python311\\site-packages\\pandas\\core\\frame.py:5266\u001b[0m, in \u001b[0;36mDataFrame._sanitize_column\u001b[1;34m(self, value)\u001b[0m\n\u001b[0;32m   5263\u001b[0m     \u001b[38;5;28;01mreturn\u001b[39;00m _reindex_for_setitem(value, \u001b[38;5;28mself\u001b[39m\u001b[38;5;241m.\u001b[39mindex)\n\u001b[0;32m   5265\u001b[0m \u001b[38;5;28;01mif\u001b[39;00m is_list_like(value):\n\u001b[1;32m-> 5266\u001b[0m     \u001b[43mcom\u001b[49m\u001b[38;5;241;43m.\u001b[39;49m\u001b[43mrequire_length_match\u001b[49m\u001b[43m(\u001b[49m\u001b[43mvalue\u001b[49m\u001b[43m,\u001b[49m\u001b[43m \u001b[49m\u001b[38;5;28;43mself\u001b[39;49m\u001b[38;5;241;43m.\u001b[39;49m\u001b[43mindex\u001b[49m\u001b[43m)\u001b[49m\n\u001b[0;32m   5267\u001b[0m arr \u001b[38;5;241m=\u001b[39m sanitize_array(value, \u001b[38;5;28mself\u001b[39m\u001b[38;5;241m.\u001b[39mindex, copy\u001b[38;5;241m=\u001b[39m\u001b[38;5;28;01mTrue\u001b[39;00m, allow_2d\u001b[38;5;241m=\u001b[39m\u001b[38;5;28;01mTrue\u001b[39;00m)\n\u001b[0;32m   5268\u001b[0m \u001b[38;5;28;01mif\u001b[39;00m (\n\u001b[0;32m   5269\u001b[0m     \u001b[38;5;28misinstance\u001b[39m(value, Index)\n\u001b[0;32m   5270\u001b[0m     \u001b[38;5;129;01mand\u001b[39;00m value\u001b[38;5;241m.\u001b[39mdtype \u001b[38;5;241m==\u001b[39m \u001b[38;5;124m\"\u001b[39m\u001b[38;5;124mobject\u001b[39m\u001b[38;5;124m\"\u001b[39m\n\u001b[1;32m   (...)\u001b[0m\n\u001b[0;32m   5273\u001b[0m     \u001b[38;5;66;03m# TODO: Remove kludge in sanitize_array for string mode when enforcing\u001b[39;00m\n\u001b[0;32m   5274\u001b[0m     \u001b[38;5;66;03m# this deprecation\u001b[39;00m\n",
      "File \u001b[1;32m~\\AppData\\Roaming\\Python\\Python311\\site-packages\\pandas\\core\\common.py:573\u001b[0m, in \u001b[0;36mrequire_length_match\u001b[1;34m(data, index)\u001b[0m\n\u001b[0;32m    569\u001b[0m \u001b[38;5;250m\u001b[39m\u001b[38;5;124;03m\"\"\"\u001b[39;00m\n\u001b[0;32m    570\u001b[0m \u001b[38;5;124;03mCheck the length of data matches the length of the index.\u001b[39;00m\n\u001b[0;32m    571\u001b[0m \u001b[38;5;124;03m\"\"\"\u001b[39;00m\n\u001b[0;32m    572\u001b[0m \u001b[38;5;28;01mif\u001b[39;00m \u001b[38;5;28mlen\u001b[39m(data) \u001b[38;5;241m!=\u001b[39m \u001b[38;5;28mlen\u001b[39m(index):\n\u001b[1;32m--> 573\u001b[0m     \u001b[38;5;28;01mraise\u001b[39;00m \u001b[38;5;167;01mValueError\u001b[39;00m(\n\u001b[0;32m    574\u001b[0m         \u001b[38;5;124m\"\u001b[39m\u001b[38;5;124mLength of values \u001b[39m\u001b[38;5;124m\"\u001b[39m\n\u001b[0;32m    575\u001b[0m         \u001b[38;5;124mf\u001b[39m\u001b[38;5;124m\"\u001b[39m\u001b[38;5;124m(\u001b[39m\u001b[38;5;132;01m{\u001b[39;00m\u001b[38;5;28mlen\u001b[39m(data)\u001b[38;5;132;01m}\u001b[39;00m\u001b[38;5;124m) \u001b[39m\u001b[38;5;124m\"\u001b[39m\n\u001b[0;32m    576\u001b[0m         \u001b[38;5;124m\"\u001b[39m\u001b[38;5;124mdoes not match length of index \u001b[39m\u001b[38;5;124m\"\u001b[39m\n\u001b[0;32m    577\u001b[0m         \u001b[38;5;124mf\u001b[39m\u001b[38;5;124m\"\u001b[39m\u001b[38;5;124m(\u001b[39m\u001b[38;5;132;01m{\u001b[39;00m\u001b[38;5;28mlen\u001b[39m(index)\u001b[38;5;132;01m}\u001b[39;00m\u001b[38;5;124m)\u001b[39m\u001b[38;5;124m\"\u001b[39m\n\u001b[0;32m    578\u001b[0m     )\n",
      "\u001b[1;31mValueError\u001b[0m: Length of values (5) does not match length of index (253)"
     ]
    }
   ],
   "source": [
    "df['price'] = list_of_prices"
   ]
  },
  {
   "cell_type": "code",
   "execution_count": null,
   "metadata": {},
   "outputs": [
    {
     "data": {
      "text/html": [
       "<div>\n",
       "<style scoped>\n",
       "    .dataframe tbody tr th:only-of-type {\n",
       "        vertical-align: middle;\n",
       "    }\n",
       "\n",
       "    .dataframe tbody tr th {\n",
       "        vertical-align: top;\n",
       "    }\n",
       "\n",
       "    .dataframe thead th {\n",
       "        text-align: right;\n",
       "    }\n",
       "</style>\n",
       "<table border=\"1\" class=\"dataframe\">\n",
       "  <thead>\n",
       "    <tr style=\"text-align: right;\">\n",
       "      <th></th>\n",
       "      <th>id</th>\n",
       "      <th>script</th>\n",
       "      <th>title</th>\n",
       "      <th>description</th>\n",
       "      <th>price</th>\n",
       "    </tr>\n",
       "  </thead>\n",
       "  <tbody>\n",
       "    <tr>\n",
       "      <th>0</th>\n",
       "      <td>4WRPADOTFa8</td>\n",
       "      <td>- In the world of private aviation,\\nsome of t...</td>\n",
       "      <td>Inside an $80,000,000 AIRBUS Private Jet With ...</td>\n",
       "      <td>Welcome to ACJ TwoTwenty! This week, we are to...</td>\n",
       "      <td>$25,999,000</td>\n",
       "    </tr>\n",
       "    <tr>\n",
       "      <th>1</th>\n",
       "      <td>MPvXYcDm6io</td>\n",
       "      <td>\\n- Hey everyone.\\nWelcome to Los Angeles, Cal...</td>\n",
       "      <td>Touring a $30,000,000 Architectural Modern Hom...</td>\n",
       "      <td>Huge thanks to Samsung for gifting their incre...</td>\n",
       "      <td>$20,999,000</td>\n",
       "    </tr>\n",
       "    <tr>\n",
       "      <th>2</th>\n",
       "      <td>356vy2cJcWg</td>\n",
       "      <td>\\n- Hey everyone.\\nWelcome to another episode....</td>\n",
       "      <td>Touring a Brand New Los Angeles Mansion With B...</td>\n",
       "      <td>If you’re struggling, consider therapy with ou...</td>\n",
       "      <td>$25,900,000</td>\n",
       "    </tr>\n",
       "    <tr>\n",
       "      <th>3</th>\n",
       "      <td>lKaTHc-0fR4</td>\n",
       "      <td>\\n- [Ardie] At the end of\\nthe day, these buil...</td>\n",
       "      <td>Touring a $177,000,000 Mega Mansion - Los Ange...</td>\n",
       "      <td>Welcome To Villa Siena! One of the most specia...</td>\n",
       "      <td>$10,000,000</td>\n",
       "    </tr>\n",
       "    <tr>\n",
       "      <th>4</th>\n",
       "      <td>vsSc6fGJmu4</td>\n",
       "      <td>\\n- Hey, everyone.\\nToday we're touring\\nthis ...</td>\n",
       "      <td>Touring the World’s Most Popular Game Develope...</td>\n",
       "      <td>If you’re struggling, consider therapy with ou...</td>\n",
       "      <td>$4,999,000</td>\n",
       "    </tr>\n",
       "    <tr>\n",
       "      <th>...</th>\n",
       "      <td>...</td>\n",
       "      <td>...</td>\n",
       "      <td>...</td>\n",
       "      <td>...</td>\n",
       "      <td>...</td>\n",
       "    </tr>\n",
       "    <tr>\n",
       "      <th>248</th>\n",
       "      <td>FskyU54dQvA</td>\n",
       "      <td>hey Mikey hi everyone\\nhey bud welcome to my o...</td>\n",
       "      <td>Inside Look Mid Century Modern Home in Studio ...</td>\n",
       "      <td>Today we did mid century modern home tour in S...</td>\n",
       "      <td>$1,299,990 (not explicitly stated in the text,...</td>\n",
       "    </tr>\n",
       "    <tr>\n",
       "      <th>249</th>\n",
       "      <td>qJS1IeMJo7w</td>\n",
       "      <td>so you guys are ready for this yes I\\nassume t...</td>\n",
       "      <td>Hollywood Hills Mansion With Shark Tank</td>\n",
       "      <td>Today we take a look inside a house in the hil...</td>\n",
       "      <td>$2,499,000</td>\n",
       "    </tr>\n",
       "    <tr>\n",
       "      <th>250</th>\n",
       "      <td>jfc0hPh8aAo</td>\n",
       "      <td>hi welcome to my block today we're gonna\\nchec...</td>\n",
       "      <td>Inside of $24 Million Beverly Hills Modern Man...</td>\n",
       "      <td>Have you ever wondered what $24 Million can bu...</td>\n",
       "      <td>$2,499,000</td>\n",
       "    </tr>\n",
       "    <tr>\n",
       "      <th>251</th>\n",
       "      <td>53J5YepNZYM</td>\n",
       "      <td>all right we have a whole crew today and\\nus w...</td>\n",
       "      <td>Bel Air House Tour and why I Love Bel Air</td>\n",
       "      <td>This time Mikey and I are in Bel Air. I like B...</td>\n",
       "      <td>Unfortunately, there is no explicit mention of...</td>\n",
       "    </tr>\n",
       "    <tr>\n",
       "      <th>252</th>\n",
       "      <td>YenEhfOAecg</td>\n",
       "      <td>[Music]\\nhi everybody you're gonna see childre...</td>\n",
       "      <td>$35 Million Mega Mansion Tour in Los Angeles</td>\n",
       "      <td>Today Mikey and I take a walk through beautifu...</td>\n",
       "      <td>$35,000,000</td>\n",
       "    </tr>\n",
       "  </tbody>\n",
       "</table>\n",
       "<p>253 rows × 5 columns</p>\n",
       "</div>"
      ],
      "text/plain": [
       "              id                                             script  \\\n",
       "0    4WRPADOTFa8  - In the world of private aviation,\\nsome of t...   \n",
       "1    MPvXYcDm6io  \\n- Hey everyone.\\nWelcome to Los Angeles, Cal...   \n",
       "2    356vy2cJcWg  \\n- Hey everyone.\\nWelcome to another episode....   \n",
       "3    lKaTHc-0fR4  \\n- [Ardie] At the end of\\nthe day, these buil...   \n",
       "4    vsSc6fGJmu4  \\n- Hey, everyone.\\nToday we're touring\\nthis ...   \n",
       "..           ...                                                ...   \n",
       "248  FskyU54dQvA  hey Mikey hi everyone\\nhey bud welcome to my o...   \n",
       "249  qJS1IeMJo7w  so you guys are ready for this yes I\\nassume t...   \n",
       "250  jfc0hPh8aAo  hi welcome to my block today we're gonna\\nchec...   \n",
       "251  53J5YepNZYM  all right we have a whole crew today and\\nus w...   \n",
       "252  YenEhfOAecg  [Music]\\nhi everybody you're gonna see childre...   \n",
       "\n",
       "                                                 title  \\\n",
       "0    Inside an $80,000,000 AIRBUS Private Jet With ...   \n",
       "1    Touring a $30,000,000 Architectural Modern Hom...   \n",
       "2    Touring a Brand New Los Angeles Mansion With B...   \n",
       "3    Touring a $177,000,000 Mega Mansion - Los Ange...   \n",
       "4    Touring the World’s Most Popular Game Develope...   \n",
       "..                                                 ...   \n",
       "248  Inside Look Mid Century Modern Home in Studio ...   \n",
       "249            Hollywood Hills Mansion With Shark Tank   \n",
       "250  Inside of $24 Million Beverly Hills Modern Man...   \n",
       "251          Bel Air House Tour and why I Love Bel Air   \n",
       "252       $35 Million Mega Mansion Tour in Los Angeles   \n",
       "\n",
       "                                           description  \\\n",
       "0    Welcome to ACJ TwoTwenty! This week, we are to...   \n",
       "1    Huge thanks to Samsung for gifting their incre...   \n",
       "2    If you’re struggling, consider therapy with ou...   \n",
       "3    Welcome To Villa Siena! One of the most specia...   \n",
       "4    If you’re struggling, consider therapy with ou...   \n",
       "..                                                 ...   \n",
       "248  Today we did mid century modern home tour in S...   \n",
       "249  Today we take a look inside a house in the hil...   \n",
       "250  Have you ever wondered what $24 Million can bu...   \n",
       "251  This time Mikey and I are in Bel Air. I like B...   \n",
       "252  Today Mikey and I take a walk through beautifu...   \n",
       "\n",
       "                                                 price  \n",
       "0                                          $25,999,000  \n",
       "1                                          $20,999,000  \n",
       "2                                          $25,900,000  \n",
       "3                                          $10,000,000  \n",
       "4                                           $4,999,000  \n",
       "..                                                 ...  \n",
       "248  $1,299,990 (not explicitly stated in the text,...  \n",
       "249                                         $2,499,000  \n",
       "250                                         $2,499,000  \n",
       "251  Unfortunately, there is no explicit mention of...  \n",
       "252                                        $35,000,000  \n",
       "\n",
       "[253 rows x 5 columns]"
      ]
     },
     "execution_count": 52,
     "metadata": {},
     "output_type": "execute_result"
    }
   ],
   "source": [
    "df"
   ]
  },
  {
   "cell_type": "code",
   "execution_count": null,
   "metadata": {},
   "outputs": [],
   "source": []
  }
 ],
 "metadata": {
  "kernelspec": {
   "display_name": "Python 3",
   "language": "python",
   "name": "python3"
  },
  "language_info": {
   "codemirror_mode": {
    "name": "ipython",
    "version": 3
   },
   "file_extension": ".py",
   "mimetype": "text/x-python",
   "name": "python",
   "nbconvert_exporter": "python",
   "pygments_lexer": "ipython3",
   "version": "3.11.9"
  }
 },
 "nbformat": 4,
 "nbformat_minor": 2
}
